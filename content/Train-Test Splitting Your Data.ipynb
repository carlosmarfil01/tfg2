{
 "cells": [
  {
   "cell_type": "code",
   "execution_count": 1,
   "metadata": {},
   "outputs": [],
   "source": [
    "# Se importan las librerias necesarias.\n",
    "from sklearn.model_selection import train_test_split\n",
    "import pandas as pd\n",
    " \n",
    "# Se leen los datos.\n",
    "df = pd.read_csv(\"data/north_korea_missile_test_database.csv\")\n",
    "y = df[\"Missile Name\"]\n",
    "X = df.drop(\"Missile Name\", axis=1)\n",
    "\n",
    "# Se crean los conjuntos de entrenamiento y test.\n",
    "X_train, X_test, y_train, y_test = train_test_split(X, y, test_size=0.2, random_state=30)"
   ]
  },
  {
   "cell_type": "code",
   "execution_count": 2,
   "metadata": {},
   "outputs": [],
   "source": [
    "# Se vuelve a usar el método train_test_split sobre los conjuntos de entrenamiento para obtener el conjunto de validación.\n",
    "X_train, X_val, y_train, y_val = train_test_split(X_train, y_train, test_size=0.25, random_state=30)"
   ]
  },
  {
   "cell_type": "code",
   "execution_count": 3,
   "metadata": {},
   "outputs": [
    {
     "name": "stdout",
     "output_type": "stream",
     "text": [
      "El tamaño del conjunto de entrenamiento X es:  81\n",
      "El tamaño del conjunto de entrenamiento Y es:  81\n",
      "El tamaño del conjunto de validación X es:  27\n",
      "El tamaño del conjunto de validación Y es:  27\n",
      "El tamaño del conjunto de test X es:  27\n",
      "El tamaño del conjunto de test Y es:  27\n"
     ]
    }
   ],
   "source": [
    "#Finalmente obtenemos un conjunto de entrenamiento que es un 60% del tamaño del conjunto de datos iniciales, y un conjunto de validacioón y test del 20% cada uno\n",
    "print(\"El tamaño del conjunto de entrenamiento X es: \",len(X_train))\n",
    "print(\"El tamaño del conjunto de entrenamiento Y es: \",len(y_train))\n",
    "print(\"El tamaño del conjunto de validación X es: \",len(X_val))      \n",
    "print(\"El tamaño del conjunto de validación Y es: \",len(y_val))\n",
    "print(\"El tamaño del conjunto de test X es: \",len(X_test))\n",
    "print(\"El tamaño del conjunto de test Y es: \",len(y_test))"
   ]
  },
  {
   "cell_type": "code",
   "execution_count": null,
   "metadata": {},
   "outputs": [],
   "source": []
  }
 ],
 "metadata": {
  "kernelspec": {
   "display_name": "Python 3 (ipykernel)",
   "language": "python",
   "name": "python3"
  },
  "language_info": {
   "codemirror_mode": {
    "name": "ipython",
    "version": 3
   },
   "file_extension": ".py",
   "mimetype": "text/x-python",
   "name": "python",
   "nbconvert_exporter": "python",
   "pygments_lexer": "ipython3",
   "version": "3.10.7"
  }
 },
 "nbformat": 4,
 "nbformat_minor": 4
}
